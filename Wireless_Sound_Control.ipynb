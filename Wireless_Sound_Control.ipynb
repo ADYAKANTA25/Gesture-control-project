{
 "cells": [
  {
   "cell_type": "code",
   "execution_count": null,
   "id": "4bed8469",
   "metadata": {},
   "outputs": [],
   "source": [
    "import cv2\n",
    "import mediapipe as mp\n",
    "import math\n",
    "import numpy\n",
    "    \n",
    "from ctypes import cast,POINTER\n",
    "from comtypes import CLSCTX_ALL\n",
    "from pycaw.pycaw import AudioUtilities,IAudioEndpointVolume\n",
    "\n",
    "devices= AudioUtilities.GetSpeakers()\n",
    "interface =devices.Activate(IAudioEndpointVolume._iid_,CLSCTX_ALL,None)\n",
    "volume=cast(interface,POINTER(IAudioEndpointVolume))\n",
    "\n",
    "volume.SetMasterVolumeLevel(-65.25,None)\n",
    "cap= cv2.VideoCapture(0)\n",
    "mpdraw =mp.solutions.drawing_utils\n",
    "mphands=mp.solutions.hands\n",
    "hands=mphands.Hands()\n",
    "\n",
    "while True:\n",
    "    success,img= cap.read()\n",
    "    imgRGB =cv2.cvtColor(img,cv2.COLOR_BGR2RGB)\n",
    "    outcome=hands.process(imgRGB)  #to detect palm\n",
    "    \n",
    " #Looping through coordinates of all the hands\n",
    "    if outcome.multi_hand_landmarks:\n",
    "        for handLms in outcome.multi_hand_landmarks:\n",
    "            l=[]\n",
    "            for id,lm in enumerate(handLms.landmark):\n",
    "                h,w,c=img.shape\n",
    "                cx,cy=int(lm.x*w), int(lm.y*h)\n",
    "                l.append([id,cx,cy])\n",
    "                \n",
    "            if l:\n",
    "                x1,y1=l[4][1],l[4][2]  #Coordinates of Thumb\n",
    "                x2,y2 = l[8][1],l[8][2] #Cordinates of Forefinger\n",
    "                cv2.circle(img,(x1,y1),15, (1,23,123), cv2.FILLED) #CRCLE around thumb tip\n",
    "                cv2.circle(img,(x2,y2),15, (1,23,123), cv2.FILLED)   #cIRCLE around FORE-Finger tip        \n",
    "                cv2.line(img,(x1,y1),(x2,y2), (1,23,123),4)     \n",
    "                z1,z2 =(x1+x2)//2,(y1+y2)//2   #To find the distance between two fingers \n",
    "                flength=math.hypot(x2-x1,y2-y1)\n",
    "                \n",
    "            volrange = volume.GetVolumeRange()\n",
    "            minvol=volrange[1]\n",
    "            maxvol=volrange[0]\n",
    "            vol=numpy.interp(flength,[50,100],[maxvol,minvol])\n",
    "            volper=numpy.interp(flength,[50,100],[0,100])\n",
    "            volbar=numpy.interp(flength,[50,300],[400,150])\n",
    "            volume.SetMasterVolumeLevel(vol,None)\n",
    "            \n",
    "            cv2.putText(img,str(int(volper)),(40,450),cv2.FONT_HERSHEY_COMPLEX,5,(1,3,5),3)\n",
    "            cv2.rectangle(img,(50,150),(85,400),(123,213,122),3)\n",
    "            cv2.rectangle(img,(50,int(volbar)),(85,400),(0,231,23),cv2.FILLED)\n",
    "\n",
    "    cv2.imshow(\"Gesture Sound Control\",img)\n",
    "    cv2.waitKey(1)"
   ]
  },
  {
   "cell_type": "code",
   "execution_count": null,
   "id": "bc86947d",
   "metadata": {},
   "outputs": [],
   "source": []
  }
 ],
 "metadata": {
  "kernelspec": {
   "display_name": "Python 3 (ipykernel)",
   "language": "python",
   "name": "python3"
  },
  "language_info": {
   "codemirror_mode": {
    "name": "ipython",
    "version": 3
   },
   "file_extension": ".py",
   "mimetype": "text/x-python",
   "name": "python",
   "nbconvert_exporter": "python",
   "pygments_lexer": "ipython3",
   "version": "3.9.12"
  }
 },
 "nbformat": 4,
 "nbformat_minor": 5
}
